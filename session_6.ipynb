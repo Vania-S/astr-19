{
 "cells": [
  {
   "cell_type": "code",
   "execution_count": 32,
   "id": "4cf4e567-9b1e-4c93-8eef-867ad6a5de6c",
   "metadata": {},
   "outputs": [],
   "source": [
    "import numpy as np\n",
    "from astropy.table import Table"
   ]
  },
  {
   "cell_type": "code",
   "execution_count": 81,
   "id": "658c79f9-b4bc-48e4-bb51-7257abd5bb82",
   "metadata": {},
   "outputs": [],
   "source": [
    "x = np.linspace(0,2*np.pi,1000)\n",
    "y1 = np.sin(x)"
   ]
  },
  {
   "cell_type": "code",
   "execution_count": 82,
   "id": "bcd21a92-999b-4536-a667-7f5a59af259e",
   "metadata": {},
   "outputs": [],
   "source": [
    "y2 = np.cos(x)"
   ]
  },
  {
   "cell_type": "code",
   "execution_count": 86,
   "id": "d65287e3-323f-42c8-90a0-ce973486070a",
   "metadata": {},
   "outputs": [],
   "source": [
    "data = Table([x,y1,y2],names=['x','sin(x)','cos(x)'])"
   ]
  },
  {
   "cell_type": "code",
   "execution_count": 87,
   "id": "3512707e-a881-4ff1-9691-26f2a6cbcc8e",
   "metadata": {},
   "outputs": [
    {
     "name": "stdout",
     "output_type": "stream",
     "text": [
      "         x                  sin(x)              cos(x)      \n",
      "-------------------- -------------------- ------------------\n",
      "                 0.0                  0.0                1.0\n",
      "0.006289474781961547 0.006289433316067751 0.9999802213186832\n",
      "0.012578949563923095 0.012578617838741058 0.9999208860571255\n",
      "0.018868424345884642  0.01886730478446709 0.9998219965624732\n",
      " 0.02515789912784619 0.025155245389375847 0.9996835567465339\n",
      " 0.03144737390980774   0.0314421909191206 0.9995055720856215\n",
      "0.037736848691769284  0.03772789267871718   0.99928804962034\n",
      " 0.04402632347373083  0.04401210202238166 0.9990309979553044\n",
      " 0.05031579825569238  0.05029457036336618 0.9987344272588006\n",
      "0.056605273037653926 0.056575049183792345 0.9983983492623831\n"
     ]
    }
   ],
   "source": [
    "print(data[:10])"
   ]
  },
  {
   "cell_type": "code",
   "execution_count": null,
   "id": "57ebbc00-453a-497c-9a9c-540a2b038c94",
   "metadata": {},
   "outputs": [],
   "source": []
  },
  {
   "cell_type": "code",
   "execution_count": null,
   "id": "e6ae9571-7983-427f-962c-e6b22c2f5e20",
   "metadata": {},
   "outputs": [],
   "source": []
  }
 ],
 "metadata": {
  "kernelspec": {
   "display_name": "Python 3 (ipykernel)",
   "language": "python",
   "name": "python3"
  },
  "language_info": {
   "codemirror_mode": {
    "name": "ipython",
    "version": 3
   },
   "file_extension": ".py",
   "mimetype": "text/x-python",
   "name": "python",
   "nbconvert_exporter": "python",
   "pygments_lexer": "ipython3",
   "version": "3.11.5"
  }
 },
 "nbformat": 4,
 "nbformat_minor": 5
}
